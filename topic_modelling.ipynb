{
 "cells": [
  {
   "cell_type": "code",
   "execution_count": 1,
   "id": "12059362-6f27-4588-a05d-ff112c779b30",
   "metadata": {
    "execution": {
     "iopub.execute_input": "2024-07-17T07:20:34.806792Z",
     "iopub.status.busy": "2024-07-17T07:20:34.806643Z",
     "iopub.status.idle": "2024-07-17T07:20:34.860026Z",
     "shell.execute_reply": "2024-07-17T07:20:34.859760Z",
     "shell.execute_reply.started": "2024-07-17T07:20:34.806779Z"
    }
   },
   "outputs": [
    {
     "name": "stdout",
     "output_type": "stream",
     "text": [
      "extracting ./archive(1).zip\n"
     ]
    }
   ],
   "source": [
    "# https://www.kaggle.com/datasets/datatattle/covid-19-nlp-text-classification/data\n",
    "\n",
    "import shutil, glob\n",
    "arch = glob.glob('./*.zip')[0]\n",
    "print('extracting', arch)\n",
    "shutil.unpack_archive(arch)"
   ]
  },
  {
   "cell_type": "code",
   "execution_count": 2,
   "id": "1c371dc8-54de-4524-b5bd-afad9a3d8a0b",
   "metadata": {
    "execution": {
     "iopub.execute_input": "2024-07-17T07:20:34.860430Z",
     "iopub.status.busy": "2024-07-17T07:20:34.860355Z",
     "iopub.status.idle": "2024-07-17T07:20:37.032761Z",
     "shell.execute_reply": "2024-07-17T07:20:37.032219Z",
     "shell.execute_reply.started": "2024-07-17T07:20:34.860423Z"
    },
    "scrolled": true
   },
   "outputs": [
    {
     "name": "stdout",
     "output_type": "stream",
     "text": [
      "Requirement already satisfied: gensim in /opt/anaconda3/lib/python3.11/site-packages (4.3.0)\n",
      "Requirement already satisfied: pyLDAvis in /opt/anaconda3/lib/python3.11/site-packages (3.4.1)\n",
      "Requirement already satisfied: numpy>=1.18.5 in /opt/anaconda3/lib/python3.11/site-packages (from gensim) (1.26.4)\n",
      "Requirement already satisfied: scipy>=1.7.0 in /opt/anaconda3/lib/python3.11/site-packages (from gensim) (1.11.4)\n",
      "Requirement already satisfied: smart-open>=1.8.1 in /opt/anaconda3/lib/python3.11/site-packages (from gensim) (5.2.1)\n",
      "Requirement already satisfied: FuzzyTM>=0.4.0 in /opt/anaconda3/lib/python3.11/site-packages (from gensim) (2.0.9)\n",
      "Requirement already satisfied: pandas>=2.0.0 in /opt/anaconda3/lib/python3.11/site-packages (from pyLDAvis) (2.1.4)\n",
      "Requirement already satisfied: joblib>=1.2.0 in /opt/anaconda3/lib/python3.11/site-packages (from pyLDAvis) (1.2.0)\n",
      "Requirement already satisfied: jinja2 in /opt/anaconda3/lib/python3.11/site-packages (from pyLDAvis) (3.1.3)\n",
      "Requirement already satisfied: numexpr in /opt/anaconda3/lib/python3.11/site-packages (from pyLDAvis) (2.8.7)\n",
      "Requirement already satisfied: funcy in /opt/anaconda3/lib/python3.11/site-packages (from pyLDAvis) (2.0)\n",
      "Requirement already satisfied: scikit-learn>=1.0.0 in /opt/anaconda3/lib/python3.11/site-packages (from pyLDAvis) (1.2.2)\n",
      "Requirement already satisfied: setuptools in /opt/anaconda3/lib/python3.11/site-packages (from pyLDAvis) (68.2.2)\n",
      "Requirement already satisfied: pyfume in /opt/anaconda3/lib/python3.11/site-packages (from FuzzyTM>=0.4.0->gensim) (0.3.1)\n",
      "Requirement already satisfied: python-dateutil>=2.8.2 in /opt/anaconda3/lib/python3.11/site-packages (from pandas>=2.0.0->pyLDAvis) (2.8.2)\n",
      "Requirement already satisfied: pytz>=2020.1 in /opt/anaconda3/lib/python3.11/site-packages (from pandas>=2.0.0->pyLDAvis) (2023.3.post1)\n",
      "Requirement already satisfied: tzdata>=2022.1 in /opt/anaconda3/lib/python3.11/site-packages (from pandas>=2.0.0->pyLDAvis) (2023.3)\n",
      "Requirement already satisfied: threadpoolctl>=2.0.0 in /opt/anaconda3/lib/python3.11/site-packages (from scikit-learn>=1.0.0->pyLDAvis) (2.2.0)\n",
      "Requirement already satisfied: MarkupSafe>=2.0 in /opt/anaconda3/lib/python3.11/site-packages (from jinja2->pyLDAvis) (2.1.3)\n",
      "Requirement already satisfied: six>=1.5 in /opt/anaconda3/lib/python3.11/site-packages (from python-dateutil>=2.8.2->pandas>=2.0.0->pyLDAvis) (1.16.0)\n",
      "Requirement already satisfied: simpful in /opt/anaconda3/lib/python3.11/site-packages (from pyfume->FuzzyTM>=0.4.0->gensim) (2.12.0)\n",
      "Requirement already satisfied: fst-pso in /opt/anaconda3/lib/python3.11/site-packages (from pyfume->FuzzyTM>=0.4.0->gensim) (1.8.1)\n",
      "Requirement already satisfied: typing-extensions in /opt/anaconda3/lib/python3.11/site-packages (from pyfume->FuzzyTM>=0.4.0->gensim) (4.9.0)\n",
      "Requirement already satisfied: miniful in /opt/anaconda3/lib/python3.11/site-packages (from fst-pso->pyfume->FuzzyTM>=0.4.0->gensim) (0.0.6)\n"
     ]
    }
   ],
   "source": [
    "!pip install gensim pyLDAvis"
   ]
  },
  {
   "cell_type": "code",
   "execution_count": 1,
   "id": "6527896f-445b-4e86-8361-6d6577d9413a",
   "metadata": {
    "execution": {
     "iopub.execute_input": "2024-07-22T15:21:59.460298Z",
     "iopub.status.busy": "2024-07-22T15:21:59.460230Z",
     "iopub.status.idle": "2024-07-22T15:22:01.348339Z",
     "shell.execute_reply": "2024-07-22T15:22:01.348018Z",
     "shell.execute_reply.started": "2024-07-22T15:21:59.460290Z"
    }
   },
   "outputs": [],
   "source": [
    "# import libraries and dependencies\n",
    "\n",
    "import pandas as pd\n",
    "import re\n",
    "import string\n",
    "from nltk.corpus import stopwords\n",
    "from nltk.tokenize import word_tokenize\n",
    "from nltk.stem import WordNetLemmatizer\n",
    "from sklearn.feature_extraction.text import TfidfVectorizer\n",
    "from gensim.models.ldamodel import LdaModel\n",
    "from gensim import corpora\n",
    "import pyLDAvis.gensim_models as gensimvis\n",
    "import pyLDAvis\n",
    "import matplotlib.pyplot as plt"
   ]
  },
  {
   "cell_type": "markdown",
   "id": "849db3cd-ed2f-47a9-8ae1-c8fd49b2a292",
   "metadata": {},
   "source": [
    "# Data Preprocessing"
   ]
  },
  {
   "cell_type": "code",
   "execution_count": 2,
   "id": "40ff33b8-0475-4e39-91d9-d43e7310cb37",
   "metadata": {
    "execution": {
     "iopub.execute_input": "2024-07-22T15:22:02.855671Z",
     "iopub.status.busy": "2024-07-22T15:22:02.855138Z",
     "iopub.status.idle": "2024-07-22T15:35:19.648786Z",
     "shell.execute_reply": "2024-07-22T15:35:19.645745Z",
     "shell.execute_reply.started": "2024-07-22T15:22:02.855640Z"
    }
   },
   "outputs": [
    {
     "name": "stderr",
     "output_type": "stream",
     "text": [
      "[nltk_data] Error loading punkt: <urlopen error [Errno 60] Operation\n",
      "[nltk_data]     timed out>\n",
      "[nltk_data] Error loading stopwords: <urlopen error [Errno 60]\n",
      "[nltk_data]     Operation timed out>\n",
      "[nltk_data] Error loading wordnet: <urlopen error [Errno 60] Operation\n",
      "[nltk_data]     timed out>\n"
     ]
    },
    {
     "data": {
      "text/plain": [
       "False"
      ]
     },
     "execution_count": 2,
     "metadata": {},
     "output_type": "execute_result"
    }
   ],
   "source": [
    "# download NLTK dependencies for text preprocessing\n",
    "\n",
    "import nltk\n",
    "nltk.download('punkt')\n",
    "nltk.download('stopwords')\n",
    "nltk.download('wordnet')"
   ]
  },
  {
   "cell_type": "code",
   "execution_count": 3,
   "id": "b20a8a65-555f-4f08-8a4a-0776441e7cd1",
   "metadata": {
    "execution": {
     "iopub.execute_input": "2024-07-22T15:35:19.673106Z",
     "iopub.status.busy": "2024-07-22T15:35:19.672848Z",
     "iopub.status.idle": "2024-07-22T15:35:19.820981Z",
     "shell.execute_reply": "2024-07-22T15:35:19.820723Z",
     "shell.execute_reply.started": "2024-07-22T15:35:19.673083Z"
    },
    "scrolled": true
   },
   "outputs": [
    {
     "data": {
      "text/plain": [
       "(44955, 6)"
      ]
     },
     "execution_count": 3,
     "metadata": {},
     "output_type": "execute_result"
    }
   ],
   "source": [
    "# Load train and test dataset\n",
    "\n",
    "df1 = pd.read_csv('Corona_NLP_train.csv', encoding='latin-1')\n",
    "df2 = pd.read_csv('Corona_NLP_test.csv', encoding='latin-1')\n",
    "\n",
    "# combine train and test dataset\n",
    "\n",
    "frames = [df1, df2]\n",
    "df = pd.concat(frames)\n",
    "df.shape"
   ]
  },
  {
   "cell_type": "code",
   "execution_count": 4,
   "id": "6f4ca7cd-7b3e-47f9-9ab2-2db61840d3cf",
   "metadata": {
    "execution": {
     "iopub.execute_input": "2024-07-22T15:35:19.821905Z",
     "iopub.status.busy": "2024-07-22T15:35:19.821812Z",
     "iopub.status.idle": "2024-07-22T15:35:19.824961Z",
     "shell.execute_reply": "2024-07-22T15:35:19.824735Z",
     "shell.execute_reply.started": "2024-07-22T15:35:19.821898Z"
    }
   },
   "outputs": [],
   "source": [
    "# function for preprocessing tweets\n",
    "\n",
    "def preprocess_text(text):\n",
    "    \"\"\"\n",
    "    Clean and preprocess the text data.\n",
    "    \"\"\"\n",
    "    text = re.sub(r'http\\S+|www\\S+|https\\S+', '', text, flags=re.MULTILINE) # Remove URLs\n",
    "    text = re.sub(r'\\@\\w+|\\#', '', text)  # Remove @mentions and hashtags (#)\n",
    "    text = text.lower() # Convert to lowercase\n",
    "    text = text.replace('', \"\") # Remove unwanted characters\n",
    "    text = text.translate(str.maketrans('', '', string.punctuation)) # remove punctuations\n",
    "    text_tokens = word_tokenize(text)  # Tokenize text\n",
    "    filtered_words = [word for word in text_tokens if word not in stopwords.words('english')] # Remove stopwords\n",
    "    lemmatizer = WordNetLemmatizer() # Lemmatize words\n",
    "    lemma_words = [lemmatizer.lemmatize(word) for word in filtered_words]\n",
    "    return ' '.join(lemma_words) # Join the words back into a single string"
   ]
  },
  {
   "cell_type": "code",
   "execution_count": 5,
   "id": "b8da5f23-ad55-4ca5-b565-8a72d1b761f2",
   "metadata": {
    "execution": {
     "iopub.execute_input": "2024-07-22T15:35:19.825386Z",
     "iopub.status.busy": "2024-07-22T15:35:19.825319Z",
     "iopub.status.idle": "2024-07-22T15:35:19.843501Z",
     "shell.execute_reply": "2024-07-22T15:35:19.843153Z",
     "shell.execute_reply.started": "2024-07-22T15:35:19.825379Z"
    }
   },
   "outputs": [
    {
     "data": {
      "text/html": [
       "<div>\n",
       "<style scoped>\n",
       "    .dataframe tbody tr th:only-of-type {\n",
       "        vertical-align: middle;\n",
       "    }\n",
       "\n",
       "    .dataframe tbody tr th {\n",
       "        vertical-align: top;\n",
       "    }\n",
       "\n",
       "    .dataframe thead th {\n",
       "        text-align: right;\n",
       "    }\n",
       "</style>\n",
       "<table border=\"1\" class=\"dataframe\">\n",
       "  <thead>\n",
       "    <tr style=\"text-align: right;\">\n",
       "      <th></th>\n",
       "      <th>UserName</th>\n",
       "      <th>ScreenName</th>\n",
       "      <th>Location</th>\n",
       "      <th>TweetAt</th>\n",
       "      <th>OriginalTweet</th>\n",
       "      <th>Sentiment</th>\n",
       "    </tr>\n",
       "  </thead>\n",
       "  <tbody>\n",
       "    <tr>\n",
       "      <th>33234</th>\n",
       "      <td>37033</td>\n",
       "      <td>81985</td>\n",
       "      <td>Aisle 3A</td>\n",
       "      <td>07-04-2020</td>\n",
       "      <td>Supermarket analyst Phil Lempert, quoted in th...</td>\n",
       "      <td>Negative</td>\n",
       "    </tr>\n",
       "    <tr>\n",
       "      <th>24534</th>\n",
       "      <td>28333</td>\n",
       "      <td>73285</td>\n",
       "      <td>ÃT: 39.924362,-85.959195</td>\n",
       "      <td>26-03-2020</td>\n",
       "      <td>Connect with a live consumer panel during your...</td>\n",
       "      <td>Neutral</td>\n",
       "    </tr>\n",
       "    <tr>\n",
       "      <th>22643</th>\n",
       "      <td>26442</td>\n",
       "      <td>71394</td>\n",
       "      <td>Bergen op Zoom, Nederland</td>\n",
       "      <td>25-03-2020</td>\n",
       "      <td>In response to urgent appeal by Swiss authorit...</td>\n",
       "      <td>Negative</td>\n",
       "    </tr>\n",
       "    <tr>\n",
       "      <th>1662</th>\n",
       "      <td>1663</td>\n",
       "      <td>46615</td>\n",
       "      <td>Germany</td>\n",
       "      <td>13-03-2020</td>\n",
       "      <td>Just a thought, but \"brick &amp;amp; mortar\" busin...</td>\n",
       "      <td>Extremely Negative</td>\n",
       "    </tr>\n",
       "    <tr>\n",
       "      <th>4896</th>\n",
       "      <td>8695</td>\n",
       "      <td>53647</td>\n",
       "      <td>NaN</td>\n",
       "      <td>18-03-2020</td>\n",
       "      <td>Less than one week into social distancing. I b...</td>\n",
       "      <td>Extremely Negative</td>\n",
       "    </tr>\n",
       "  </tbody>\n",
       "</table>\n",
       "</div>"
      ],
      "text/plain": [
       "       UserName  ScreenName                   Location     TweetAt  \\\n",
       "33234     37033       81985                   Aisle 3A  07-04-2020   \n",
       "24534     28333       73285  ÃT: 39.924362,-85.959195  26-03-2020   \n",
       "22643     26442       71394  Bergen op Zoom, Nederland  25-03-2020   \n",
       "1662       1663       46615                    Germany  13-03-2020   \n",
       "4896       8695       53647                        NaN  18-03-2020   \n",
       "\n",
       "                                           OriginalTweet           Sentiment  \n",
       "33234  Supermarket analyst Phil Lempert, quoted in th...            Negative  \n",
       "24534  Connect with a live consumer panel during your...             Neutral  \n",
       "22643  In response to urgent appeal by Swiss authorit...            Negative  \n",
       "1662   Just a thought, but \"brick &amp; mortar\" busin...  Extremely Negative  \n",
       "4896   Less than one week into social distancing. I b...  Extremely Negative  "
      ]
     },
     "execution_count": 5,
     "metadata": {},
     "output_type": "execute_result"
    }
   ],
   "source": [
    "df.sample(5) # show random rows from raw dataset"
   ]
  },
  {
   "cell_type": "code",
   "execution_count": 6,
   "id": "21bcb6ee-aaa9-4512-b391-8af3d29fbd3a",
   "metadata": {
    "execution": {
     "iopub.execute_input": "2024-07-22T15:35:19.844545Z",
     "iopub.status.busy": "2024-07-22T15:35:19.844358Z",
     "iopub.status.idle": "2024-07-22T15:35:19.847074Z",
     "shell.execute_reply": "2024-07-22T15:35:19.846792Z",
     "shell.execute_reply.started": "2024-07-22T15:35:19.844534Z"
    }
   },
   "outputs": [
    {
     "data": {
      "text/plain": [
       "(44955, 6)"
      ]
     },
     "execution_count": 6,
     "metadata": {},
     "output_type": "execute_result"
    }
   ],
   "source": [
    "df.shape # check dataset size"
   ]
  },
  {
   "cell_type": "code",
   "execution_count": 9,
   "id": "50765b98-0e86-4f79-b20a-a30e470036c2",
   "metadata": {
    "execution": {
     "iopub.execute_input": "2024-07-17T07:20:40.302725Z",
     "iopub.status.busy": "2024-07-17T07:20:40.302637Z",
     "iopub.status.idle": "2024-07-17T07:21:31.946922Z",
     "shell.execute_reply": "2024-07-17T07:21:31.946220Z",
     "shell.execute_reply.started": "2024-07-17T07:20:40.302718Z"
    },
    "scrolled": true
   },
   "outputs": [],
   "source": [
    "# Apply the preprocessing function\n",
    "\n",
    "df['clean_text'] = df['OriginalTweet'].apply(preprocess_text)"
   ]
  },
  {
   "cell_type": "code",
   "execution_count": 10,
   "id": "2eb8b184-1917-42f4-9637-a1e283e6eb5d",
   "metadata": {
    "execution": {
     "iopub.execute_input": "2024-07-17T07:21:31.948039Z",
     "iopub.status.busy": "2024-07-17T07:21:31.947817Z",
     "iopub.status.idle": "2024-07-17T07:21:31.955132Z",
     "shell.execute_reply": "2024-07-17T07:21:31.954896Z",
     "shell.execute_reply.started": "2024-07-17T07:21:31.948024Z"
    },
    "scrolled": true
   },
   "outputs": [
    {
     "data": {
      "text/html": [
       "<div>\n",
       "<style scoped>\n",
       "    .dataframe tbody tr th:only-of-type {\n",
       "        vertical-align: middle;\n",
       "    }\n",
       "\n",
       "    .dataframe tbody tr th {\n",
       "        vertical-align: top;\n",
       "    }\n",
       "\n",
       "    .dataframe thead th {\n",
       "        text-align: right;\n",
       "    }\n",
       "</style>\n",
       "<table border=\"1\" class=\"dataframe\">\n",
       "  <thead>\n",
       "    <tr style=\"text-align: right;\">\n",
       "      <th></th>\n",
       "      <th>UserName</th>\n",
       "      <th>ScreenName</th>\n",
       "      <th>Location</th>\n",
       "      <th>TweetAt</th>\n",
       "      <th>OriginalTweet</th>\n",
       "      <th>Sentiment</th>\n",
       "      <th>clean_text</th>\n",
       "    </tr>\n",
       "  </thead>\n",
       "  <tbody>\n",
       "    <tr>\n",
       "      <th>38001</th>\n",
       "      <td>41800</td>\n",
       "      <td>86752</td>\n",
       "      <td>Sarasota, FL</td>\n",
       "      <td>11-04-2020</td>\n",
       "      <td>Just got a fed express delivery The driver was...</td>\n",
       "      <td>Positive</td>\n",
       "      <td>got fed express delivery driver given mask han...</td>\n",
       "    </tr>\n",
       "    <tr>\n",
       "      <th>8043</th>\n",
       "      <td>11842</td>\n",
       "      <td>56794</td>\n",
       "      <td>NaN</td>\n",
       "      <td>19-03-2020</td>\n",
       "      <td>@ZdawgYT When I walk into a grocery store I se...</td>\n",
       "      <td>Extremely Negative</td>\n",
       "      <td>walk grocery store see disappointment cause co...</td>\n",
       "    </tr>\n",
       "    <tr>\n",
       "      <th>6851</th>\n",
       "      <td>10650</td>\n",
       "      <td>55602</td>\n",
       "      <td>Happiest Place On Earth</td>\n",
       "      <td>19-03-2020</td>\n",
       "      <td>The CDC says \"Ignore online offers for vaccina...</td>\n",
       "      <td>Negative</td>\n",
       "      <td>cdc say ignore online offer vaccination curren...</td>\n",
       "    </tr>\n",
       "    <tr>\n",
       "      <th>26317</th>\n",
       "      <td>30116</td>\n",
       "      <td>75068</td>\n",
       "      <td>United States</td>\n",
       "      <td>02-04-2020</td>\n",
       "      <td>@ODNIgov @CDCgov Can you pop out and pick up a...</td>\n",
       "      <td>Extremely Positive</td>\n",
       "      <td>pop pick thing supermarket thanks guy guy best...</td>\n",
       "    </tr>\n",
       "    <tr>\n",
       "      <th>36681</th>\n",
       "      <td>40480</td>\n",
       "      <td>85432</td>\n",
       "      <td>Lagos Nigeria</td>\n",
       "      <td>09-04-2020</td>\n",
       "      <td>Online shoppingÂ The safest way to transact b...</td>\n",
       "      <td>Positive</td>\n",
       "      <td>online shoppingâ safest way transact business ...</td>\n",
       "    </tr>\n",
       "    <tr>\n",
       "      <th>13143</th>\n",
       "      <td>16942</td>\n",
       "      <td>61894</td>\n",
       "      <td>Austin, TX</td>\n",
       "      <td>21-03-2020</td>\n",
       "      <td>If I get #Covid_19, it will almost certainly b...</td>\n",
       "      <td>Negative</td>\n",
       "      <td>get covid19 almost certainly level stupidity h...</td>\n",
       "    </tr>\n",
       "    <tr>\n",
       "      <th>7555</th>\n",
       "      <td>11354</td>\n",
       "      <td>56306</td>\n",
       "      <td>NaN</td>\n",
       "      <td>19-03-2020</td>\n",
       "      <td>Stock markets fall back despite ECB and Federa...</td>\n",
       "      <td>Neutral</td>\n",
       "      <td>stock market fall back despite ecb federal res...</td>\n",
       "    </tr>\n",
       "    <tr>\n",
       "      <th>34340</th>\n",
       "      <td>38139</td>\n",
       "      <td>83091</td>\n",
       "      <td>NaN</td>\n",
       "      <td>08-04-2020</td>\n",
       "      <td>Even the chief executive of LongoÂs, an Ontar...</td>\n",
       "      <td>Neutral</td>\n",
       "      <td>even chief executive longoâs ontario chain sup...</td>\n",
       "    </tr>\n",
       "    <tr>\n",
       "      <th>5550</th>\n",
       "      <td>9349</td>\n",
       "      <td>54301</td>\n",
       "      <td>Southern California, USA</td>\n",
       "      <td>19-03-2020</td>\n",
       "      <td>@isabellacgrr ... midst of all of this has ins...</td>\n",
       "      <td>Negative</td>\n",
       "      <td>midst insane price 7k covid19 6k kind enough t...</td>\n",
       "    </tr>\n",
       "    <tr>\n",
       "      <th>6705</th>\n",
       "      <td>10504</td>\n",
       "      <td>55456</td>\n",
       "      <td>NaN</td>\n",
       "      <td>19-03-2020</td>\n",
       "      <td>Fighting Fear with #Beer: #Coronavirus Spurs C...</td>\n",
       "      <td>Extremely Negative</td>\n",
       "      <td>fighting fear beer coronavirus spur curbside s...</td>\n",
       "    </tr>\n",
       "    <tr>\n",
       "      <th>30494</th>\n",
       "      <td>34293</td>\n",
       "      <td>79245</td>\n",
       "      <td>NaN</td>\n",
       "      <td>06-04-2020</td>\n",
       "      <td>Oil prices have dropped by about two thirds in...</td>\n",
       "      <td>Negative</td>\n",
       "      <td>oil price dropped two third 2020 covid 19 pand...</td>\n",
       "    </tr>\n",
       "    <tr>\n",
       "      <th>2770</th>\n",
       "      <td>2771</td>\n",
       "      <td>47723</td>\n",
       "      <td>NY, NY</td>\n",
       "      <td>14-03-2020</td>\n",
       "      <td>https://t.co/7lRxM8tKUj Apple has closed all n...</td>\n",
       "      <td>Neutral</td>\n",
       "      <td>apple closed nonchina store apple thoughtleade...</td>\n",
       "    </tr>\n",
       "    <tr>\n",
       "      <th>17584</th>\n",
       "      <td>21383</td>\n",
       "      <td>66335</td>\n",
       "      <td>Illinois</td>\n",
       "      <td>23-03-2020</td>\n",
       "      <td>@RICHHOWARDSTEIN They need to investigate @eBa...</td>\n",
       "      <td>Positive</td>\n",
       "      <td>need investigate mask hand sanitizer wipe toil...</td>\n",
       "    </tr>\n",
       "    <tr>\n",
       "      <th>25176</th>\n",
       "      <td>28975</td>\n",
       "      <td>73927</td>\n",
       "      <td>India</td>\n",
       "      <td>30-03-2020</td>\n",
       "      <td>Mysuru supermarket staff arrested for refusing...</td>\n",
       "      <td>Extremely Negative</td>\n",
       "      <td>mysuru supermarket staff arrested refusing ent...</td>\n",
       "    </tr>\n",
       "    <tr>\n",
       "      <th>21228</th>\n",
       "      <td>25027</td>\n",
       "      <td>69979</td>\n",
       "      <td>The wet side of the mountains</td>\n",
       "      <td>25-03-2020</td>\n",
       "      <td>@stonecold2050 No worries here, still maintain...</td>\n",
       "      <td>Extremely Negative</td>\n",
       "      <td>worry still maintaining diet lose enough pound...</td>\n",
       "    </tr>\n",
       "    <tr>\n",
       "      <th>18664</th>\n",
       "      <td>22463</td>\n",
       "      <td>67415</td>\n",
       "      <td>Worldwide</td>\n",
       "      <td>23-03-2020</td>\n",
       "      <td>Less than 30 percent of Americans have jobs th...</td>\n",
       "      <td>Positive</td>\n",
       "      <td>le 30 percent american job allow working home</td>\n",
       "    </tr>\n",
       "    <tr>\n",
       "      <th>10968</th>\n",
       "      <td>14767</td>\n",
       "      <td>59719</td>\n",
       "      <td>Kent</td>\n",
       "      <td>20-03-2020</td>\n",
       "      <td>@TarrahKristine I obviously wasnÂt talking ab...</td>\n",
       "      <td>Negative</td>\n",
       "      <td>obviously wasnât talking strenuous asthma wonâ...</td>\n",
       "    </tr>\n",
       "    <tr>\n",
       "      <th>40260</th>\n",
       "      <td>44059</td>\n",
       "      <td>89011</td>\n",
       "      <td>Quantum Flux</td>\n",
       "      <td>13-04-2020</td>\n",
       "      <td>#coronavirus #Lockdown #COVID19 please if anyo...</td>\n",
       "      <td>Extremely Positive</td>\n",
       "      <td>coronavirus lockdown covid19 please anyone han...</td>\n",
       "    </tr>\n",
       "    <tr>\n",
       "      <th>38985</th>\n",
       "      <td>42784</td>\n",
       "      <td>87736</td>\n",
       "      <td>Singapore</td>\n",
       "      <td>12-04-2020</td>\n",
       "      <td>In the first week of March, when many American...</td>\n",
       "      <td>Positive</td>\n",
       "      <td>first week march many american began prepare r...</td>\n",
       "    </tr>\n",
       "    <tr>\n",
       "      <th>2048</th>\n",
       "      <td>5847</td>\n",
       "      <td>50799</td>\n",
       "      <td>NaN</td>\n",
       "      <td>17-03-2020</td>\n",
       "      <td>Brits and others are running to the shops to s...</td>\n",
       "      <td>Neutral</td>\n",
       "      <td>brit others running shop stock food american r...</td>\n",
       "    </tr>\n",
       "  </tbody>\n",
       "</table>\n",
       "</div>"
      ],
      "text/plain": [
       "       UserName  ScreenName                       Location     TweetAt  \\\n",
       "38001     41800       86752                  Sarasota, FL   11-04-2020   \n",
       "8043      11842       56794                            NaN  19-03-2020   \n",
       "6851      10650       55602        Happiest Place On Earth  19-03-2020   \n",
       "26317     30116       75068                  United States  02-04-2020   \n",
       "36681     40480       85432                  Lagos Nigeria  09-04-2020   \n",
       "13143     16942       61894                     Austin, TX  21-03-2020   \n",
       "7555      11354       56306                            NaN  19-03-2020   \n",
       "34340     38139       83091                            NaN  08-04-2020   \n",
       "5550       9349       54301       Southern California, USA  19-03-2020   \n",
       "6705      10504       55456                            NaN  19-03-2020   \n",
       "30494     34293       79245                            NaN  06-04-2020   \n",
       "2770       2771       47723                         NY, NY  14-03-2020   \n",
       "17584     21383       66335                       Illinois  23-03-2020   \n",
       "25176     28975       73927                          India  30-03-2020   \n",
       "21228     25027       69979  The wet side of the mountains  25-03-2020   \n",
       "18664     22463       67415                      Worldwide  23-03-2020   \n",
       "10968     14767       59719                           Kent  20-03-2020   \n",
       "40260     44059       89011                   Quantum Flux  13-04-2020   \n",
       "38985     42784       87736                      Singapore  12-04-2020   \n",
       "2048       5847       50799                            NaN  17-03-2020   \n",
       "\n",
       "                                           OriginalTweet           Sentiment  \\\n",
       "38001  Just got a fed express delivery The driver was...            Positive   \n",
       "8043   @ZdawgYT When I walk into a grocery store I se...  Extremely Negative   \n",
       "6851   The CDC says \"Ignore online offers for vaccina...            Negative   \n",
       "26317  @ODNIgov @CDCgov Can you pop out and pick up a...  Extremely Positive   \n",
       "36681  Online shoppingÂ The safest way to transact b...            Positive   \n",
       "13143  If I get #Covid_19, it will almost certainly b...            Negative   \n",
       "7555   Stock markets fall back despite ECB and Federa...             Neutral   \n",
       "34340  Even the chief executive of LongoÂs, an Ontar...             Neutral   \n",
       "5550   @isabellacgrr ... midst of all of this has ins...            Negative   \n",
       "6705   Fighting Fear with #Beer: #Coronavirus Spurs C...  Extremely Negative   \n",
       "30494  Oil prices have dropped by about two thirds in...            Negative   \n",
       "2770   https://t.co/7lRxM8tKUj Apple has closed all n...             Neutral   \n",
       "17584  @RICHHOWARDSTEIN They need to investigate @eBa...            Positive   \n",
       "25176  Mysuru supermarket staff arrested for refusing...  Extremely Negative   \n",
       "21228  @stonecold2050 No worries here, still maintain...  Extremely Negative   \n",
       "18664  Less than 30 percent of Americans have jobs th...            Positive   \n",
       "10968  @TarrahKristine I obviously wasnÂt talking ab...            Negative   \n",
       "40260  #coronavirus #Lockdown #COVID19 please if anyo...  Extremely Positive   \n",
       "38985  In the first week of March, when many American...            Positive   \n",
       "2048   Brits and others are running to the shops to s...             Neutral   \n",
       "\n",
       "                                              clean_text  \n",
       "38001  got fed express delivery driver given mask han...  \n",
       "8043   walk grocery store see disappointment cause co...  \n",
       "6851   cdc say ignore online offer vaccination curren...  \n",
       "26317  pop pick thing supermarket thanks guy guy best...  \n",
       "36681  online shoppingâ safest way transact business ...  \n",
       "13143  get covid19 almost certainly level stupidity h...  \n",
       "7555   stock market fall back despite ecb federal res...  \n",
       "34340  even chief executive longoâs ontario chain sup...  \n",
       "5550   midst insane price 7k covid19 6k kind enough t...  \n",
       "6705   fighting fear beer coronavirus spur curbside s...  \n",
       "30494  oil price dropped two third 2020 covid 19 pand...  \n",
       "2770   apple closed nonchina store apple thoughtleade...  \n",
       "17584  need investigate mask hand sanitizer wipe toil...  \n",
       "25176  mysuru supermarket staff arrested refusing ent...  \n",
       "21228  worry still maintaining diet lose enough pound...  \n",
       "18664      le 30 percent american job allow working home  \n",
       "10968  obviously wasnât talking strenuous asthma wonâ...  \n",
       "40260  coronavirus lockdown covid19 please anyone han...  \n",
       "38985  first week march many american began prepare r...  \n",
       "2048   brit others running shop stock food american r...  "
      ]
     },
     "execution_count": 10,
     "metadata": {},
     "output_type": "execute_result"
    }
   ],
   "source": [
    "df.sample(20)"
   ]
  },
  {
   "cell_type": "markdown",
   "id": "d9af940e-d103-470a-b6eb-19f30ba47359",
   "metadata": {},
   "source": [
    "# Feature Extraction"
   ]
  },
  {
   "cell_type": "code",
   "execution_count": 11,
   "id": "8984e441-2ffc-4c53-8140-1002a5da4659",
   "metadata": {
    "execution": {
     "iopub.execute_input": "2024-07-17T07:21:31.955539Z",
     "iopub.status.busy": "2024-07-17T07:21:31.955480Z",
     "iopub.status.idle": "2024-07-17T07:21:32.293396Z",
     "shell.execute_reply": "2024-07-17T07:21:32.293055Z",
     "shell.execute_reply.started": "2024-07-17T07:21:31.955533Z"
    }
   },
   "outputs": [],
   "source": [
    "# Feature Extraction\n",
    "\n",
    "vectorizer = TfidfVectorizer(max_features=5000)\n",
    "X = vectorizer.fit_transform(df['clean_text'])"
   ]
  },
  {
   "cell_type": "code",
   "execution_count": 12,
   "id": "42e76c4e-2587-46f2-93ab-c79f57cc3655",
   "metadata": {
    "execution": {
     "iopub.execute_input": "2024-07-17T07:21:32.293900Z",
     "iopub.status.busy": "2024-07-17T07:21:32.293834Z",
     "iopub.status.idle": "2024-07-17T07:21:32.295850Z",
     "shell.execute_reply": "2024-07-17T07:21:32.295612Z",
     "shell.execute_reply.started": "2024-07-17T07:21:32.293892Z"
    }
   },
   "outputs": [
    {
     "data": {
      "text/plain": [
       "(44955, 5000)"
      ]
     },
     "execution_count": 12,
     "metadata": {},
     "output_type": "execute_result"
    }
   ],
   "source": [
    "X.shape"
   ]
  },
  {
   "cell_type": "markdown",
   "id": "8ca64a09-e6b7-4070-af50-8667661cf200",
   "metadata": {},
   "source": [
    "# Topic Modeling with LDA"
   ]
  },
  {
   "cell_type": "code",
   "execution_count": 13,
   "id": "0c76e4b5-1f5e-4cc1-9b5c-b7c11ef0bcf6",
   "metadata": {
    "execution": {
     "iopub.execute_input": "2024-07-17T07:21:32.296251Z",
     "iopub.status.busy": "2024-07-17T07:21:32.296186Z",
     "iopub.status.idle": "2024-07-17T07:21:33.196548Z",
     "shell.execute_reply": "2024-07-17T07:21:33.196176Z",
     "shell.execute_reply.started": "2024-07-17T07:21:32.296244Z"
    }
   },
   "outputs": [],
   "source": [
    "# 1. Create dictionary and corpus\n",
    "dictionary = corpora.Dictionary(df['clean_text'].apply(lambda x: x.split()))\n",
    "corpus = [dictionary.doc2bow(text) for text in df['clean_text'].apply(lambda x: x.split())]"
   ]
  },
  {
   "cell_type": "code",
   "execution_count": 14,
   "id": "93eca2b7-b2aa-4191-a379-3ec71f75ca3a",
   "metadata": {
    "execution": {
     "iopub.execute_input": "2024-07-17T07:21:33.197129Z",
     "iopub.status.busy": "2024-07-17T07:21:33.197053Z",
     "iopub.status.idle": "2024-07-17T07:21:33.198750Z",
     "shell.execute_reply": "2024-07-17T07:21:33.198471Z",
     "shell.execute_reply.started": "2024-07-17T07:21:33.197121Z"
    }
   },
   "outputs": [],
   "source": [
    "# 2. Model selection and parameter tuning\n",
    "from gensim.models.coherencemodel import CoherenceModel"
   ]
  },
  {
   "cell_type": "markdown",
   "id": "7e73fc67-d380-4ad2-a895-ca8531e84254",
   "metadata": {},
   "source": [
    "## Train LDA model"
   ]
  },
  {
   "cell_type": "code",
   "execution_count": 15,
   "id": "a88df704-e68a-45c5-8fcc-a5f33cb6217d",
   "metadata": {
    "execution": {
     "iopub.execute_input": "2024-07-17T07:21:33.199158Z",
     "iopub.status.busy": "2024-07-17T07:21:33.199102Z",
     "iopub.status.idle": "2024-07-17T07:21:33.201087Z",
     "shell.execute_reply": "2024-07-17T07:21:33.200873Z",
     "shell.execute_reply.started": "2024-07-17T07:21:33.199152Z"
    }
   },
   "outputs": [],
   "source": [
    "# 3. Define function to evaluate coherence score\n",
    "def compute_coherence_values(dictionary, corpus, texts, limit, start=2, step=3):\n",
    "    coherence_values = []\n",
    "    model_list = []\n",
    "    for num_topics in range(start, limit, step):\n",
    "        model = LdaModel(corpus=corpus, id2word=dictionary, num_topics=num_topics)\n",
    "        model_list.append(model)\n",
    "        coherence_model = CoherenceModel(model=model, texts=texts, dictionary=dictionary, coherence='c_v')\n",
    "        coherence_values.append(coherence_model.get_coherence())\n",
    "    return model_list, coherence_values"
   ]
  },
  {
   "cell_type": "code",
   "execution_count": 16,
   "id": "aaec8121-eb8a-45d2-823f-1fc17fcedb03",
   "metadata": {
    "execution": {
     "iopub.execute_input": "2024-07-17T07:21:33.201551Z",
     "iopub.status.busy": "2024-07-17T07:21:33.201479Z",
     "iopub.status.idle": "2024-07-17T07:22:55.227376Z",
     "shell.execute_reply": "2024-07-17T07:22:55.226745Z",
     "shell.execute_reply.started": "2024-07-17T07:21:33.201544Z"
    }
   },
   "outputs": [],
   "source": [
    "# 4. Set parameters for coherence evaluation\n",
    "start = 2\n",
    "limit = 20\n",
    "step = 2\n",
    "\n",
    "# Compute coherence scores\n",
    "model_list, coherence_values = compute_coherence_values(dictionary=dictionary, corpus=corpus, texts=df['clean_text'].apply(lambda x: x.split()), \n",
    "                                                       start=start, limit=limit, step=step)\n"
   ]
  },
  {
   "cell_type": "markdown",
   "id": "c0941b67-789a-462e-9217-1e933310bb07",
   "metadata": {},
   "source": [
    "## viz evaluation"
   ]
  },
  {
   "cell_type": "code",
   "execution_count": 17,
   "id": "725cb98d-abbf-4fd7-b5df-e40926956376",
   "metadata": {
    "execution": {
     "iopub.execute_input": "2024-07-17T07:22:55.228268Z",
     "iopub.status.busy": "2024-07-17T07:22:55.228162Z",
     "iopub.status.idle": "2024-07-17T07:22:55.397891Z",
     "shell.execute_reply": "2024-07-17T07:22:55.395596Z",
     "shell.execute_reply.started": "2024-07-17T07:22:55.228252Z"
    }
   },
   "outputs": [
    {
     "data": {
      "image/png": "[encoded data removed]",
      "text/plain": [
       "<Figure size 640x480 with 1 Axes>"
      ]
     },
     "metadata": {},
     "output_type": "display_data"
    }
   ],
   "source": [
    "# 5. Plot coherence scores\n",
    "x = range(start, limit, step)\n",
    "plt.plot(x, coherence_values)\n",
    "plt.xlabel(\"Number of Topics\")\n",
    "plt.ylabel(\"Coherence Score\")\n",
    "plt.title(\"Coherence Score vs Number of Topics\")\n",
    "plt.show()\n"
   ]
  },
  {
   "cell_type": "code",
   "execution_count": 18,
   "id": "b0d2934b-9ccc-414f-a70b-d0b775041a0d",
   "metadata": {
    "execution": {
     "iopub.execute_input": "2024-07-17T07:22:55.407369Z",
     "iopub.status.busy": "2024-07-17T07:22:55.407047Z",
     "iopub.status.idle": "2024-07-17T07:22:55.427612Z",
     "shell.execute_reply": "2024-07-17T07:22:55.420935Z",
     "shell.execute_reply.started": "2024-07-17T07:22:55.407350Z"
    }
   },
   "outputs": [
    {
     "name": "stdout",
     "output_type": "stream",
     "text": [
      "Optimal Number of Topics: 14\n"
     ]
    }
   ],
   "source": [
    "# 6. Select optimal number of topics based on coherence score\n",
    "optimal_model_index = coherence_values.index(max(coherence_values))\n",
    "optimal_num_topics = x[optimal_model_index]\n",
    "print(f'Optimal Number of Topics: {optimal_num_topics}')"
   ]
  },
  {
   "cell_type": "markdown",
   "id": "e1dcfe2b-d16e-464d-bcff-5ec26005de62",
   "metadata": {},
   "source": [
    "## Visualization"
   ]
  },
  {
   "cell_type": "code",
   "execution_count": 19,
   "id": "146bec70-4a0c-4e58-9d70-484d4e5b88b1",
   "metadata": {
    "execution": {
     "iopub.execute_input": "2024-07-17T07:22:55.430571Z",
     "iopub.status.busy": "2024-07-17T07:22:55.429450Z",
     "iopub.status.idle": "2024-07-17T07:22:55.445015Z",
     "shell.execute_reply": "2024-07-17T07:22:55.444318Z",
     "shell.execute_reply.started": "2024-07-17T07:22:55.430550Z"
    }
   },
   "outputs": [],
   "source": [
    "# retrieve best model\n",
    "\n",
    "optimal_model = model_list[optimal_model_index]"
   ]
  },
  {
   "cell_type": "code",
   "execution_count": 20,
   "id": "ebacef08-7129-43b6-a991-613db6d795e8",
   "metadata": {
    "execution": {
     "iopub.execute_input": "2024-07-17T07:22:55.445927Z",
     "iopub.status.busy": "2024-07-17T07:22:55.445772Z",
     "iopub.status.idle": "2024-07-17T07:22:55.469844Z",
     "shell.execute_reply": "2024-07-17T07:22:55.463098Z",
     "shell.execute_reply.started": "2024-07-17T07:22:55.445906Z"
    }
   },
   "outputs": [
    {
     "name": "stdout",
     "output_type": "stream",
     "text": [
      "(0, '0.101*\"food\" + 0.054*\"stock\" + 0.030*\"panic\" + 0.021*\"covid19\" + 0.018*\"supply\"')\n",
      "(1, '0.034*\"amp\" + 0.019*\"supermarket\" + 0.019*\"people\" + 0.017*\"covid19\" + 0.012*\"coronavirus\"')\n",
      "(2, '0.050*\"online\" + 0.049*\"shopping\" + 0.029*\"covid19\" + 0.019*\"food\" + 0.017*\"coronavirus\"')\n",
      "(3, '0.069*\"store\" + 0.055*\"grocery\" + 0.034*\"covid19\" + 0.027*\"coronavirus\" + 0.015*\"people\"')\n",
      "(4, '0.096*\"price\" + 0.031*\"oil\" + 0.016*\"gas\" + 0.016*\"covid19\" + 0.014*\"low\"')\n",
      "(5, '0.031*\"worker\" + 0.022*\"covid19\" + 0.022*\"supermarket\" + 0.014*\"coronavirus\" + 0.014*\"thank\"')\n",
      "(6, '0.075*\"price\" + 0.031*\"coronaviruspandemic\" + 0.026*\"demand\" + 0.024*\"covid19\" + 0.016*\"coronavirus\"')\n",
      "(7, '0.062*\"coronavirus\" + 0.046*\"covid19\" + 0.034*\"hand\" + 0.032*\"sanitizer\" + 0.029*\"paper\"')\n",
      "(8, '0.053*\"covid19\" + 0.036*\"consumer\" + 0.024*\"coronavirus\" + 0.022*\"price\" + 0.015*\"pandemic\"')\n",
      "(9, '0.028*\"coronaoutbreak\" + 0.020*\"food\" + 0.020*\"amp\" + 0.014*\"free\" + 0.014*\"restaurant\"')\n",
      "(10, '0.086*\"19\" + 0.084*\"covid\" + 0.018*\"demand\" + 0.017*\"food\" + 0.015*\"online\"')\n",
      "(11, '0.032*\"coronapocalypse\" + 0.026*\"tip\" + 0.023*\"scam\" + 0.014*\"info\" + 0.013*\"visit\"')\n",
      "(12, '0.053*\"consumer\" + 0.042*\"covid19\" + 0.034*\"coronavirus\" + 0.020*\"retail\" + 0.011*\"change\"')\n",
      "(13, '0.034*\"business\" + 0.017*\"online\" + 0.017*\"support\" + 0.015*\"small\" + 0.015*\"coronavirus\"')\n"
     ]
    }
   ],
   "source": [
    "# Print topics\n",
    "topics = optimal_model.print_topics(num_words=5)\n",
    "for topic in topics:\n",
    "    print(topic)"
   ]
  },
  {
   "cell_type": "code",
   "execution_count": 21,
   "id": "6ee1fe2b-667a-4cac-aebb-f24a5982be71",
   "metadata": {
    "execution": {
     "iopub.execute_input": "2024-07-17T07:22:55.471096Z",
     "iopub.status.busy": "2024-07-17T07:22:55.470998Z",
     "iopub.status.idle": "2024-07-17T07:23:01.036600Z",
     "shell.execute_reply": "2024-07-17T07:23:01.035979Z",
     "shell.execute_reply.started": "2024-07-17T07:22:55.471088Z"
    }
   },
   "outputs": [],
   "source": [
    "# Visualize the best model\n",
    "\n",
    "lda_display = gensimvis.prepare(optimal_model, corpus, dictionary, sort_topics=False)\n",
    "# pyLDAvis.display(lda_display)"
   ]
  },
  {
   "cell_type": "code",
   "execution_count": 22,
   "id": "e6284225-b243-4c0f-b70e-1e1d1ba26e40",
   "metadata": {
    "execution": {
     "iopub.execute_input": "2024-07-17T07:23:01.037347Z",
     "iopub.status.busy": "2024-07-17T07:23:01.037263Z",
     "iopub.status.idle": "2024-07-17T07:23:01.045805Z",
     "shell.execute_reply": "2024-07-17T07:23:01.045584Z",
     "shell.execute_reply.started": "2024-07-17T07:23:01.037333Z"
    }
   },
   "outputs": [],
   "source": [
    "# save viz to file\n",
    "\n",
    "pyLDAvis.save_html(lda_display, 'lda_visualization.html')"
   ]
  },
  {
   "cell_type": "code",
   "execution_count": 23,
   "id": "83ca909a-16ca-42f2-8ad9-0d1c61d5ce94",
   "metadata": {
    "execution": {
     "iopub.execute_input": "2024-07-17T07:23:01.046237Z",
     "iopub.status.busy": "2024-07-17T07:23:01.046177Z",
     "iopub.status.idle": "2024-07-17T07:23:01.047759Z",
     "shell.execute_reply": "2024-07-17T07:23:01.047554Z",
     "shell.execute_reply.started": "2024-07-17T07:23:01.046230Z"
    }
   },
   "outputs": [],
   "source": [
    "# https://docs.google.com/document/d/1gBQLToo-N_wfg-iOxQNhsZ509PSeQfeTGOb06N4MKpU/edit?usp=sharing"
   ]
  }
 ],
 "metadata": {
  "kernelspec": {
   "display_name": "Python [conda env:root] *",
   "language": "python",
   "name": "conda-root-py"
  },
  "language_info": {
   "codemirror_mode": {
    "name": "ipython",
    "version": 3
   },
   "file_extension": ".py",
   "mimetype": "text/x-python",
   "name": "python",
   "nbconvert_exporter": "python",
   "pygments_lexer": "ipython3",
   "version": "3.11.7"
  }
 },
 "nbformat": 4,
 "nbformat_minor": 5
}
